import pandas as pd

ratings = pd.read_csv('data/movielens/ratings.csv')
movies = pd.read_csv('data/movielens/movies.csv')
netflix = pd.read_csv('data/netflix/netflix_titles.csv')
print(ratings.head())
print(movies.head())
print(netflix.head())
