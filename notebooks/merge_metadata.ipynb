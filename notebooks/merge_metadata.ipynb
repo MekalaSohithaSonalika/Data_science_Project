from fuzzywuzzy import process

def match_title(title, choices):
    return process.extractOne(title, choices)[0]

movies['clean_title'] = movies['title'].str.replace(r"\(\d{4}\)", "", regex=True).str.strip().str.lower()
netflix['clean_title'] = netflix['title'].str.lower().str.strip()

movies['matched_netflix_title'] = movies['clean_title'].apply(lambda x: match_title(x, netflix['clean_title']))

movies.to_csv('data/processed/merged_movies.csv', index=False)
